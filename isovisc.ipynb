{
 "cells": [
  {
   "cell_type": "code",
   "execution_count": null,
   "metadata": {},
   "outputs": [],
   "source": [
    "import underworld as uw\n",
    "from underworld import function as fn\n",
    "import glucifer\n",
    "import numpy as np\n",
    "import math\n",
    "import planetengine\n",
    "from planetengine import InitialConditions\n",
    "from planetengine import Analysis"
   ]
  },
  {
   "cell_type": "code",
   "execution_count": null,
   "metadata": {},
   "outputs": [],
   "source": [
    "radii = (1.2, 2.2) #(1.2, 2.2)\n",
    "radRes = 128\n",
    "angPi = 1. / 3.\n",
    "offsetPi = 1. / 3.\n",
    "\n",
    "mesh = uw.mesh._FeMesh_Annulus(\n",
    "    elementRes = (radRes, (4*int(angPi*math.pi*(int(radRes*radii[1]/(radii[1] - radii[0])))/4.))),\n",
    "    radialLengths = (radii[0], radii[1]),\n",
    "    angularExtent = (offsetPi * 180., (angPi + offsetPi) * 180.)\n",
    "    )"
   ]
  },
  {
   "cell_type": "code",
   "execution_count": null,
   "metadata": {},
   "outputs": [],
   "source": [
    "temperatureField = uw.mesh.MeshVariable(mesh = mesh, nodeDofCount = 1)\n",
    "temperatureDotField = uw.mesh.MeshVariable(mesh = mesh, nodeDofCount = 1)\n",
    "pressureField = uw.mesh.MeshVariable(mesh = mesh.subMesh, nodeDofCount = 1)\n",
    "velocityField = uw.mesh.MeshVariable(mesh = mesh, nodeDofCount = 2)"
   ]
  },
  {
   "cell_type": "code",
   "execution_count": null,
   "metadata": {},
   "outputs": [],
   "source": [
    "curvedBox = planetengine.CoordSystems.Radial(\n",
    "    mesh.radialLengths,\n",
    "    mesh.angularExtent,\n",
    "    boxDims = ((0., angPi * 6.), (0., 1.))\n",
    "    ).curved_box"
   ]
  },
  {
   "cell_type": "code",
   "execution_count": null,
   "metadata": {},
   "outputs": [],
   "source": [
    "initialConditions = InitialConditions.Group([\n",
    "    #InitialConditions.Sinusoidal(temperatureField.data, curvedBox(mesh.data)),\n",
    "    InitialConditions.LoadField(temperatureField, \"isovisc_Ra1e5res64temperatureField_00010000.h5\"),\n",
    "    InitialConditions.Indices(\n",
    "        temperatureField.data[:],\n",
    "        [(mesh.specialSets[\"outer\"].data, 0.),\n",
    "        (mesh.specialSets[\"inner\"].data, 1.)]\n",
    "        ),\n",
    "    InitialConditions.SetVal([velocityField.data, pressureField.data, temperatureDotField.data], 0.),\n",
    "    ])"
   ]
  },
  {
   "cell_type": "code",
   "execution_count": null,
   "metadata": {},
   "outputs": [],
   "source": [
    "initialConditions.apply_condition()"
   ]
  },
  {
   "cell_type": "code",
   "execution_count": null,
   "metadata": {},
   "outputs": [],
   "source": [
    "inner = mesh.specialSets[\"inner\"]\n",
    "outer = mesh.specialSets[\"outer\"]\n",
    "\n",
    "velBC = uw.conditions.RotatedDirichletCondition(\n",
    "    variable = velocityField,\n",
    "    indexSetsPerDof= (inner + outer, None),\n",
    "    basis_vectors = (mesh.bnd_vec_normal, mesh.bnd_vec_tangent)\n",
    "    )\n",
    "\n",
    "tempBC = uw.conditions.DirichletCondition(\n",
    "    variable = temperatureField,\n",
    "    indexSetsPerDof = (inner + outer,)\n",
    "    )"
   ]
  },
  {
   "cell_type": "code",
   "execution_count": null,
   "metadata": {
    "scrolled": false
   },
   "outputs": [],
   "source": [
    "stokes = uw.systems.Stokes(\n",
    "    velocityField = velocityField,\n",
    "    pressureField = pressureField,\n",
    "    conditions = [velBC,],\n",
    "    fn_viscosity = 1.,\n",
    "    fn_bodyforce = temperatureField * 1e7 * mesh.fn_unitvec_radial(),\n",
    "    _removeBCs = False,\n",
    "    )\n",
    "\n",
    "solver = uw.systems.Solver(stokes)\n",
    "\n",
    "advDiff = uw.systems.AdvectionDiffusion(\n",
    "    phiField = temperatureField,\n",
    "    phiDotField = temperatureDotField,\n",
    "    velocityField = velocityField,\n",
    "    fn_diffusivity = fn.misc.constant(1.),\n",
    "    conditions = [tempBC,]\n",
    "    )"
   ]
  },
  {
   "cell_type": "code",
   "execution_count": null,
   "metadata": {},
   "outputs": [],
   "source": [
    "solver.solve(nonLinearIterate = False)"
   ]
  },
  {
   "cell_type": "code",
   "execution_count": null,
   "metadata": {},
   "outputs": [],
   "source": [
    "fig = glucifer.Figure(edgecolour = \"\", quality = 2)\n",
    "figTempComponent = fig.Surface(mesh, temperatureField, colourBar = True)\n",
    "figVelComponent = fig.VectorArrows(mesh, velocityField)"
   ]
  },
  {
   "cell_type": "code",
   "execution_count": null,
   "metadata": {},
   "outputs": [],
   "source": [
    "def postSolve():\n",
    "    # realign solution using the rotation matrix on stokes\n",
    "    uw.libUnderworld.Underworld.AXequalsX(\n",
    "        stokesSLE._rot._cself,\n",
    "        stokesSLE._velocitySol._cself,\n",
    "        False\n",
    "        )\n",
    "    # remove null space - the solid body rotation velocity contribution\n",
    "    uw.libUnderworld.StgFEM.SolutionVector_RemoveVectorSpace(\n",
    "        stokesSLE._velocitySol._cself, \n",
    "        stokesSLE._vnsVec._cself\n",
    "        )"
   ]
  },
  {
   "cell_type": "code",
   "execution_count": null,
   "metadata": {},
   "outputs": [],
   "source": [
    "def update():\n",
    "    solver.solve(nonLinearIterate = False, callback_post_solve = postSolve)\n",
    "    dt = advDiff.get_max_dt()\n",
    "    advDiff.integrate(dt)\n",
    "    return dt"
   ]
  },
  {
   "cell_type": "code",
   "execution_count": null,
   "metadata": {},
   "outputs": [],
   "source": [
    "formatDict = {\n",
    "    'Nu': \"{:.1f}\",\n",
    "    'avTemp': \"{:.2f}\",\n",
    "    'VRMS': \"{:.2f}\",\n",
    "    'surfVRMS': \"{:.2f}\",\n",
    "    'modeltime': \"{:.1E}\",\n",
    "    'step': \"{:.0f}\",\n",
    "    }"
   ]
  },
  {
   "cell_type": "code",
   "execution_count": null,
   "metadata": {},
   "outputs": [],
   "source": [
    "step, modeltime = fn.misc.constant(0), fn.misc.constant(0.)"
   ]
  },
  {
   "cell_type": "code",
   "execution_count": null,
   "metadata": {},
   "outputs": [],
   "source": [
    "analyser = Analysis.Analyser('zerodData', {\n",
    "    'Nu': Analysis.Analyse.DimensionlessGradient(temperatureField, mesh,\n",
    "        surfIndexSet = mesh.specialSets[\"outer\"], baseIndexSet = mesh.specialSets[\"inner\"]\n",
    "        ),\n",
    "    'avTemp': Analysis.Analyse.ScalarFieldAverage(temperatureField, mesh),\n",
    "    'VRMS': Analysis.Analyse.VectorFieldVolRMS(velocityField, mesh),\n",
    "    'surfVRMS': Analysis.Analyse.VectorFieldSurfRMS(\n",
    "        velocityField, mesh, outer\n",
    "        ),\n",
    "    'step': Analysis.Analyse.ArrayStripper(step, (0, 0)),\n",
    "    'modeltime': Analysis.Analyse.ArrayStripper(modeltime, (0, 0)),\n",
    "    })"
   ]
  },
  {
   "cell_type": "code",
   "execution_count": null,
   "metadata": {},
   "outputs": [],
   "source": [
    "dataCollector = Analysis.DataCollector([analyser])"
   ]
  },
  {
   "cell_type": "code",
   "execution_count": null,
   "metadata": {},
   "outputs": [],
   "source": [
    "checkpointer = planetengine.Checkpointer(\n",
    "    outputPath = \"isovisc_Ra1e7res128_\", #\"Output\\\\\",\n",
    "    figs = [(\"fig\", fig)],\n",
    "    varsOfState = [\n",
    "        (((temperatureField, \"temperatureField\"),), (mesh, \"mesh\")),\n",
    "        ],\n",
    "    dataCollector = dataCollector,\n",
    "    step = step\n",
    "    )"
   ]
  },
  {
   "cell_type": "code",
   "execution_count": null,
   "metadata": {},
   "outputs": [],
   "source": [
    "reporter = Analysis.Report(analyser.dataDict, formatDict, fig)"
   ]
  },
  {
   "cell_type": "code",
   "execution_count": null,
   "metadata": {},
   "outputs": [],
   "source": [
    "analyser.update()\n",
    "dataCollector.update()\n",
    "#reporter.report()\n",
    "checkpointer.checkpoint()"
   ]
  },
  {
   "cell_type": "code",
   "execution_count": null,
   "metadata": {
    "scrolled": true
   },
   "outputs": [],
   "source": [
    "while step.value < 40000:\n",
    "    step.value += 1\n",
    "    modeltime.value += update()\n",
    "    if step.value % 10 == 0:\n",
    "        analyser.update()\n",
    "        dataCollector.update()\n",
    "    if step.value % 1000 == 0:\n",
    "        #reporter.report()\n",
    "        checkpointer.checkpoint()"
   ]
  },
  {
   "cell_type": "code",
   "execution_count": null,
   "metadata": {},
   "outputs": [],
   "source": [
    "testobj = np.loadtxt('testingzerodData.csv', delimiter = \",\")"
   ]
  }
 ],
 "metadata": {
  "kernelspec": {
   "display_name": "Python 2",
   "language": "python",
   "name": "python2"
  },
  "language_info": {
   "codemirror_mode": {
    "name": "ipython",
    "version": 2
   },
   "file_extension": ".py",
   "mimetype": "text/x-python",
   "name": "python",
   "nbconvert_exporter": "python",
   "pygments_lexer": "ipython2",
   "version": "2.7.13"
  }
 },
 "nbformat": 4,
 "nbformat_minor": 2
}
